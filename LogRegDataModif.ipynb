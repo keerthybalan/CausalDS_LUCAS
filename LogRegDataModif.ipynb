{
 "cells": [
  {
   "cell_type": "markdown",
   "metadata": {},
   "source": [
    "# Logistic Regression"
   ]
  },
  {
   "cell_type": "code",
   "execution_count": 1,
   "metadata": {},
   "outputs": [
    {
     "name": "stderr",
     "output_type": "stream",
     "text": [
      "C:\\Users\\dolou\\anaconda3\\envs\\CDS\\lib\\site-packages\\outdated\\utils.py:14: OutdatedPackageWarning: The package pingouin is out of date. Your version is 0.5.0, the latest is 0.5.1.\n",
      "Set the environment variable OUTDATED_IGNORE=1 to disable these warnings.\n",
      "  return warn(\n"
     ]
    }
   ],
   "source": [
    "import numpy as np\n",
    "import pandas as pd\n",
    "import matplotlib.pyplot as plt\n",
    "from matplotlib import style\n",
    "import seaborn as sns\n",
    "\n",
    "import networkx as nx\n",
    "import dowhy\n",
    "import pandas as pd\n",
    "from dowhy import CausalModel\n",
    "\n",
    "style.use('fivethirtyeight') # bmh\n",
    "\n",
    "import math\n",
    "import dowhy.datasets, dowhy.plotter\n",
    "\n",
    "import hyppo\n",
    "import pingouin as pg\n",
    "import conditional_independence\n",
    "\n",
    "from hyppo.independence import Hsic\n",
    "\n",
    "# the code below simple hides some warnings we don't want to see\n",
    "import warnings\n",
    "from sklearn.exceptions import DataConversionWarning\n",
    "warnings.filterwarnings(action='ignore', category=DataConversionWarning)\n",
    "warnings.filterwarnings(action='ignore', category=FutureWarning)\n",
    "\n",
    "\n",
    "# a utility function to parse the .gml file to string\n",
    "def gml_to_string(file):\n",
    "    gml_str = ''\n",
    "    with open(file, 'r') as file:\n",
    "        for line in file:\n",
    "            gml_str += line.rstrip()\n",
    "    return gml_str\n",
    "\n",
    "path = \"Data/lucas0_text/\"\n",
    "names = ['Smoking', 'Yellow_Fingers', 'Anxiety', 'Peer_Pressure', 'Genetics', 'Attention_Disorder','Born_an_Even_Day', 'Car_Accident', 'Fatigue', 'Allergy', 'Coughing']\n",
    "\n",
    "\n",
    "# reading csv files\n",
    "train =  pd.read_csv(path + 'lucas0_train.data', sep=\" \", header = None)\n",
    "train.drop(11, inplace = True, axis = 1)\n",
    "train.columns = names\n",
    "test =  pd.read_csv(path + 'lucas0_test.data', sep=\" \", header = None)\n",
    "test.drop(11, inplace = True, axis = 1)\n",
    "test.columns = names\n",
    "target =  pd.read_csv(path + 'lucas0_train.targets', sep=\" \", header = None)\n",
    "# param =  pd.read_csv(path + 'lucas0.param', sep=\" \")\n",
    "\n",
    "target[target[0] == -1] = 0\n",
    "\n",
    "avgs = train[names].mean()\n",
    "\n",
    "train[\"Lung_Cancer\"] = np.array(target)\n",
    "\n",
    "avgs = train.mean()\n",
    "\n",
    "train=train.astype({\"Coughing\":'bool'}, copy=False)"
   ]
  },
  {
   "cell_type": "code",
   "execution_count": 2,
   "metadata": {},
   "outputs": [
    {
     "data": {
      "text/html": [
       "<div>\n",
       "<style scoped>\n",
       "    .dataframe tbody tr th:only-of-type {\n",
       "        vertical-align: middle;\n",
       "    }\n",
       "\n",
       "    .dataframe tbody tr th {\n",
       "        vertical-align: top;\n",
       "    }\n",
       "\n",
       "    .dataframe thead th {\n",
       "        text-align: right;\n",
       "    }\n",
       "</style>\n",
       "<table border=\"1\" class=\"dataframe\">\n",
       "  <thead>\n",
       "    <tr style=\"text-align: right;\">\n",
       "      <th></th>\n",
       "      <th>Smoking</th>\n",
       "      <th>Yellow_Fingers</th>\n",
       "      <th>Anxiety</th>\n",
       "      <th>Peer_Pressure</th>\n",
       "      <th>Genetics</th>\n",
       "      <th>Attention_Disorder</th>\n",
       "      <th>Born_an_Even_Day</th>\n",
       "      <th>Car_Accident</th>\n",
       "      <th>Fatigue</th>\n",
       "      <th>Allergy</th>\n",
       "      <th>Coughing</th>\n",
       "      <th>Lung_Cancer</th>\n",
       "    </tr>\n",
       "  </thead>\n",
       "  <tbody>\n",
       "    <tr>\n",
       "      <th>0</th>\n",
       "      <td>0</td>\n",
       "      <td>0</td>\n",
       "      <td>1</td>\n",
       "      <td>0</td>\n",
       "      <td>0</td>\n",
       "      <td>1</td>\n",
       "      <td>0</td>\n",
       "      <td>1</td>\n",
       "      <td>0</td>\n",
       "      <td>1</td>\n",
       "      <td>False</td>\n",
       "      <td>0</td>\n",
       "    </tr>\n",
       "    <tr>\n",
       "      <th>1</th>\n",
       "      <td>0</td>\n",
       "      <td>1</td>\n",
       "      <td>0</td>\n",
       "      <td>0</td>\n",
       "      <td>0</td>\n",
       "      <td>0</td>\n",
       "      <td>1</td>\n",
       "      <td>0</td>\n",
       "      <td>1</td>\n",
       "      <td>0</td>\n",
       "      <td>True</td>\n",
       "      <td>1</td>\n",
       "    </tr>\n",
       "    <tr>\n",
       "      <th>2</th>\n",
       "      <td>1</td>\n",
       "      <td>1</td>\n",
       "      <td>1</td>\n",
       "      <td>0</td>\n",
       "      <td>1</td>\n",
       "      <td>1</td>\n",
       "      <td>1</td>\n",
       "      <td>1</td>\n",
       "      <td>1</td>\n",
       "      <td>1</td>\n",
       "      <td>True</td>\n",
       "      <td>1</td>\n",
       "    </tr>\n",
       "    <tr>\n",
       "      <th>3</th>\n",
       "      <td>0</td>\n",
       "      <td>0</td>\n",
       "      <td>0</td>\n",
       "      <td>1</td>\n",
       "      <td>0</td>\n",
       "      <td>0</td>\n",
       "      <td>1</td>\n",
       "      <td>0</td>\n",
       "      <td>0</td>\n",
       "      <td>0</td>\n",
       "      <td>False</td>\n",
       "      <td>0</td>\n",
       "    </tr>\n",
       "    <tr>\n",
       "      <th>4</th>\n",
       "      <td>1</td>\n",
       "      <td>1</td>\n",
       "      <td>1</td>\n",
       "      <td>0</td>\n",
       "      <td>0</td>\n",
       "      <td>1</td>\n",
       "      <td>1</td>\n",
       "      <td>1</td>\n",
       "      <td>1</td>\n",
       "      <td>0</td>\n",
       "      <td>False</td>\n",
       "      <td>1</td>\n",
       "    </tr>\n",
       "    <tr>\n",
       "      <th>...</th>\n",
       "      <td>...</td>\n",
       "      <td>...</td>\n",
       "      <td>...</td>\n",
       "      <td>...</td>\n",
       "      <td>...</td>\n",
       "      <td>...</td>\n",
       "      <td>...</td>\n",
       "      <td>...</td>\n",
       "      <td>...</td>\n",
       "      <td>...</td>\n",
       "      <td>...</td>\n",
       "      <td>...</td>\n",
       "    </tr>\n",
       "    <tr>\n",
       "      <th>1995</th>\n",
       "      <td>0</td>\n",
       "      <td>0</td>\n",
       "      <td>1</td>\n",
       "      <td>0</td>\n",
       "      <td>0</td>\n",
       "      <td>0</td>\n",
       "      <td>0</td>\n",
       "      <td>1</td>\n",
       "      <td>1</td>\n",
       "      <td>0</td>\n",
       "      <td>True</td>\n",
       "      <td>1</td>\n",
       "    </tr>\n",
       "    <tr>\n",
       "      <th>1996</th>\n",
       "      <td>1</td>\n",
       "      <td>1</td>\n",
       "      <td>1</td>\n",
       "      <td>0</td>\n",
       "      <td>0</td>\n",
       "      <td>0</td>\n",
       "      <td>0</td>\n",
       "      <td>0</td>\n",
       "      <td>1</td>\n",
       "      <td>0</td>\n",
       "      <td>True</td>\n",
       "      <td>1</td>\n",
       "    </tr>\n",
       "    <tr>\n",
       "      <th>1997</th>\n",
       "      <td>1</td>\n",
       "      <td>1</td>\n",
       "      <td>0</td>\n",
       "      <td>1</td>\n",
       "      <td>0</td>\n",
       "      <td>0</td>\n",
       "      <td>1</td>\n",
       "      <td>0</td>\n",
       "      <td>1</td>\n",
       "      <td>0</td>\n",
       "      <td>False</td>\n",
       "      <td>1</td>\n",
       "    </tr>\n",
       "    <tr>\n",
       "      <th>1998</th>\n",
       "      <td>1</td>\n",
       "      <td>1</td>\n",
       "      <td>1</td>\n",
       "      <td>0</td>\n",
       "      <td>1</td>\n",
       "      <td>1</td>\n",
       "      <td>0</td>\n",
       "      <td>1</td>\n",
       "      <td>1</td>\n",
       "      <td>0</td>\n",
       "      <td>True</td>\n",
       "      <td>1</td>\n",
       "    </tr>\n",
       "    <tr>\n",
       "      <th>1999</th>\n",
       "      <td>1</td>\n",
       "      <td>1</td>\n",
       "      <td>0</td>\n",
       "      <td>1</td>\n",
       "      <td>0</td>\n",
       "      <td>0</td>\n",
       "      <td>0</td>\n",
       "      <td>0</td>\n",
       "      <td>1</td>\n",
       "      <td>1</td>\n",
       "      <td>True</td>\n",
       "      <td>1</td>\n",
       "    </tr>\n",
       "  </tbody>\n",
       "</table>\n",
       "<p>2000 rows × 12 columns</p>\n",
       "</div>"
      ],
      "text/plain": [
       "      Smoking  Yellow_Fingers  Anxiety  Peer_Pressure  Genetics  \\\n",
       "0           0               0        1              0         0   \n",
       "1           0               1        0              0         0   \n",
       "2           1               1        1              0         1   \n",
       "3           0               0        0              1         0   \n",
       "4           1               1        1              0         0   \n",
       "...       ...             ...      ...            ...       ...   \n",
       "1995        0               0        1              0         0   \n",
       "1996        1               1        1              0         0   \n",
       "1997        1               1        0              1         0   \n",
       "1998        1               1        1              0         1   \n",
       "1999        1               1        0              1         0   \n",
       "\n",
       "      Attention_Disorder  Born_an_Even_Day  Car_Accident  Fatigue  Allergy  \\\n",
       "0                      1                 0             1        0        1   \n",
       "1                      0                 1             0        1        0   \n",
       "2                      1                 1             1        1        1   \n",
       "3                      0                 1             0        0        0   \n",
       "4                      1                 1             1        1        0   \n",
       "...                  ...               ...           ...      ...      ...   \n",
       "1995                   0                 0             1        1        0   \n",
       "1996                   0                 0             0        1        0   \n",
       "1997                   0                 1             0        1        0   \n",
       "1998                   1                 0             1        1        0   \n",
       "1999                   0                 0             0        1        1   \n",
       "\n",
       "      Coughing  Lung_Cancer  \n",
       "0        False            0  \n",
       "1         True            1  \n",
       "2         True            1  \n",
       "3        False            0  \n",
       "4        False            1  \n",
       "...        ...          ...  \n",
       "1995      True            1  \n",
       "1996      True            1  \n",
       "1997     False            1  \n",
       "1998      True            1  \n",
       "1999      True            1  \n",
       "\n",
       "[2000 rows x 12 columns]"
      ]
     },
     "execution_count": 2,
     "metadata": {},
     "output_type": "execute_result"
    }
   ],
   "source": [
    "train"
   ]
  },
  {
   "cell_type": "code",
   "execution_count": 3,
   "metadata": {},
   "outputs": [
    {
     "data": {
      "image/png": "[encoded data removed]",
      "text/plain": [
       "<Figure size 864x576 with 1 Axes>"
      ]
     },
     "metadata": {},
     "output_type": "display_data"
    }
   ],
   "source": [
    "# we import networkx and create a directed graph\n",
    "G = nx.DiGraph()\n",
    "\n",
    "plt.figure(3,figsize=(12,8))\n",
    "\n",
    "G.add_nodes_from(['Smoking', 'Yellow_Fingers', 'Anxiety', 'Peer_Pressure', 'Genetics', 'Attention_Disorder','Born_an_Even_Day', 'Car_Accident', 'Fatigue', 'Allergy', 'Coughing', 'Lung_Cancer'])\n",
    "\n",
    "G.add_edges_from([('Anxiety','Smoking'), ('Peer_Pressure','Smoking'), ('Smoking','Yellow_Fingers'), ('Smoking','Lung_Cancer'), \n",
    "                  ('Allergy','Coughing'), ('Lung_Cancer','Coughing'), ('Coughing','Fatigue'), ('Lung_Cancer','Fatigue'),\n",
    "                 ('Genetics','Lung_Cancer'), ('Genetics','Attention_Disorder'), ('Attention_Disorder', 'Car_Accident'), ('Fatigue', 'Car_Accident')])\n",
    "\n",
    "# we can visualise this graph (choosing node positions, colours, and sizes to make it more clear) \n",
    "# and save it to a .gml format (for using DoWhy later)\n",
    "pos = {'Anxiety': (-20, 40),              'Yellow_Fingers': (-25, 18),\n",
    "         'Peer_Pressure': (0, 40), 'Smoking': (-10, 15), 'Allergy': (-25, -5),\n",
    "         'Coughing': (-20, -30), 'Lung_Cancer': (5, 0), 'Genetics': (20, 30), 'Attention_Disorder': (20, 0),\n",
    "         'Fatigue': (0, -30),'Car_Accident': (20, -30), 'Born_an_Even_Day' : (35,35)}\n",
    "\n",
    "nx.draw(G, pos = pos,with_labels=True, node_size=10000, node_color='w', edgecolors ='black', linewidths= 5, width = 4, font_size = 10)\n",
    "nx.write_gml(G, \"backdoor_criterion_graph.gml\")\n",
    "\n",
    "plt.show()"
   ]
  },
  {
   "cell_type": "code",
   "execution_count": 4,
   "metadata": {},
   "outputs": [
    {
     "data": {
      "text/html": [
       "<div>\n",
       "<style scoped>\n",
       "    .dataframe tbody tr th:only-of-type {\n",
       "        vertical-align: middle;\n",
       "    }\n",
       "\n",
       "    .dataframe tbody tr th {\n",
       "        vertical-align: top;\n",
       "    }\n",
       "\n",
       "    .dataframe thead th {\n",
       "        text-align: right;\n",
       "    }\n",
       "</style>\n",
       "<table border=\"1\" class=\"dataframe\">\n",
       "  <thead>\n",
       "    <tr style=\"text-align: right;\">\n",
       "      <th></th>\n",
       "      <th>Smoking</th>\n",
       "      <th>Yellow_Fingers</th>\n",
       "      <th>Anxiety</th>\n",
       "      <th>Peer_Pressure</th>\n",
       "      <th>Genetics</th>\n",
       "      <th>Attention_Disorder</th>\n",
       "      <th>Born_an_Even_Day</th>\n",
       "      <th>Car_Accident</th>\n",
       "      <th>Fatigue</th>\n",
       "      <th>Allergy</th>\n",
       "      <th>Coughing</th>\n",
       "      <th>Lung_Cancer</th>\n",
       "    </tr>\n",
       "  </thead>\n",
       "  <tbody>\n",
       "    <tr>\n",
       "      <th>0</th>\n",
       "      <td>0</td>\n",
       "      <td>0</td>\n",
       "      <td>1</td>\n",
       "      <td>0</td>\n",
       "      <td>0</td>\n",
       "      <td>1</td>\n",
       "      <td>0</td>\n",
       "      <td>1</td>\n",
       "      <td>0</td>\n",
       "      <td>1</td>\n",
       "      <td>False</td>\n",
       "      <td>0</td>\n",
       "    </tr>\n",
       "    <tr>\n",
       "      <th>1</th>\n",
       "      <td>0</td>\n",
       "      <td>1</td>\n",
       "      <td>0</td>\n",
       "      <td>0</td>\n",
       "      <td>0</td>\n",
       "      <td>0</td>\n",
       "      <td>1</td>\n",
       "      <td>0</td>\n",
       "      <td>1</td>\n",
       "      <td>0</td>\n",
       "      <td>True</td>\n",
       "      <td>1</td>\n",
       "    </tr>\n",
       "    <tr>\n",
       "      <th>2</th>\n",
       "      <td>1</td>\n",
       "      <td>1</td>\n",
       "      <td>1</td>\n",
       "      <td>0</td>\n",
       "      <td>1</td>\n",
       "      <td>1</td>\n",
       "      <td>1</td>\n",
       "      <td>1</td>\n",
       "      <td>1</td>\n",
       "      <td>1</td>\n",
       "      <td>True</td>\n",
       "      <td>1</td>\n",
       "    </tr>\n",
       "    <tr>\n",
       "      <th>3</th>\n",
       "      <td>0</td>\n",
       "      <td>0</td>\n",
       "      <td>0</td>\n",
       "      <td>1</td>\n",
       "      <td>0</td>\n",
       "      <td>0</td>\n",
       "      <td>1</td>\n",
       "      <td>0</td>\n",
       "      <td>0</td>\n",
       "      <td>0</td>\n",
       "      <td>False</td>\n",
       "      <td>0</td>\n",
       "    </tr>\n",
       "    <tr>\n",
       "      <th>4</th>\n",
       "      <td>1</td>\n",
       "      <td>1</td>\n",
       "      <td>1</td>\n",
       "      <td>0</td>\n",
       "      <td>0</td>\n",
       "      <td>1</td>\n",
       "      <td>1</td>\n",
       "      <td>1</td>\n",
       "      <td>1</td>\n",
       "      <td>0</td>\n",
       "      <td>False</td>\n",
       "      <td>1</td>\n",
       "    </tr>\n",
       "    <tr>\n",
       "      <th>...</th>\n",
       "      <td>...</td>\n",
       "      <td>...</td>\n",
       "      <td>...</td>\n",
       "      <td>...</td>\n",
       "      <td>...</td>\n",
       "      <td>...</td>\n",
       "      <td>...</td>\n",
       "      <td>...</td>\n",
       "      <td>...</td>\n",
       "      <td>...</td>\n",
       "      <td>...</td>\n",
       "      <td>...</td>\n",
       "    </tr>\n",
       "    <tr>\n",
       "      <th>1995</th>\n",
       "      <td>0</td>\n",
       "      <td>0</td>\n",
       "      <td>1</td>\n",
       "      <td>0</td>\n",
       "      <td>0</td>\n",
       "      <td>0</td>\n",
       "      <td>0</td>\n",
       "      <td>1</td>\n",
       "      <td>1</td>\n",
       "      <td>0</td>\n",
       "      <td>True</td>\n",
       "      <td>1</td>\n",
       "    </tr>\n",
       "    <tr>\n",
       "      <th>1996</th>\n",
       "      <td>1</td>\n",
       "      <td>1</td>\n",
       "      <td>1</td>\n",
       "      <td>0</td>\n",
       "      <td>0</td>\n",
       "      <td>0</td>\n",
       "      <td>0</td>\n",
       "      <td>0</td>\n",
       "      <td>1</td>\n",
       "      <td>0</td>\n",
       "      <td>True</td>\n",
       "      <td>1</td>\n",
       "    </tr>\n",
       "    <tr>\n",
       "      <th>1997</th>\n",
       "      <td>1</td>\n",
       "      <td>1</td>\n",
       "      <td>0</td>\n",
       "      <td>1</td>\n",
       "      <td>0</td>\n",
       "      <td>0</td>\n",
       "      <td>1</td>\n",
       "      <td>0</td>\n",
       "      <td>1</td>\n",
       "      <td>0</td>\n",
       "      <td>False</td>\n",
       "      <td>1</td>\n",
       "    </tr>\n",
       "    <tr>\n",
       "      <th>1998</th>\n",
       "      <td>1</td>\n",
       "      <td>1</td>\n",
       "      <td>1</td>\n",
       "      <td>0</td>\n",
       "      <td>1</td>\n",
       "      <td>1</td>\n",
       "      <td>0</td>\n",
       "      <td>1</td>\n",
       "      <td>1</td>\n",
       "      <td>0</td>\n",
       "      <td>True</td>\n",
       "      <td>1</td>\n",
       "    </tr>\n",
       "    <tr>\n",
       "      <th>1999</th>\n",
       "      <td>1</td>\n",
       "      <td>1</td>\n",
       "      <td>0</td>\n",
       "      <td>1</td>\n",
       "      <td>0</td>\n",
       "      <td>0</td>\n",
       "      <td>0</td>\n",
       "      <td>0</td>\n",
       "      <td>1</td>\n",
       "      <td>1</td>\n",
       "      <td>True</td>\n",
       "      <td>1</td>\n",
       "    </tr>\n",
       "  </tbody>\n",
       "</table>\n",
       "<p>2000 rows × 12 columns</p>\n",
       "</div>"
      ],
      "text/plain": [
       "      Smoking  Yellow_Fingers  Anxiety  Peer_Pressure  Genetics  \\\n",
       "0           0               0        1              0         0   \n",
       "1           0               1        0              0         0   \n",
       "2           1               1        1              0         1   \n",
       "3           0               0        0              1         0   \n",
       "4           1               1        1              0         0   \n",
       "...       ...             ...      ...            ...       ...   \n",
       "1995        0               0        1              0         0   \n",
       "1996        1               1        1              0         0   \n",
       "1997        1               1        0              1         0   \n",
       "1998        1               1        1              0         1   \n",
       "1999        1               1        0              1         0   \n",
       "\n",
       "      Attention_Disorder  Born_an_Even_Day  Car_Accident  Fatigue  Allergy  \\\n",
       "0                      1                 0             1        0        1   \n",
       "1                      0                 1             0        1        0   \n",
       "2                      1                 1             1        1        1   \n",
       "3                      0                 1             0        0        0   \n",
       "4                      1                 1             1        1        0   \n",
       "...                  ...               ...           ...      ...      ...   \n",
       "1995                   0                 0             1        1        0   \n",
       "1996                   0                 0             0        1        0   \n",
       "1997                   0                 1             0        1        0   \n",
       "1998                   1                 0             1        1        0   \n",
       "1999                   0                 0             0        1        1   \n",
       "\n",
       "      Coughing  Lung_Cancer  \n",
       "0        False            0  \n",
       "1         True            1  \n",
       "2         True            1  \n",
       "3        False            0  \n",
       "4        False            1  \n",
       "...        ...          ...  \n",
       "1995      True            1  \n",
       "1996      True            1  \n",
       "1997     False            1  \n",
       "1998      True            1  \n",
       "1999      True            1  \n",
       "\n",
       "[2000 rows x 12 columns]"
      ]
     },
     "execution_count": 4,
     "metadata": {},
     "output_type": "execute_result"
    }
   ],
   "source": [
    "train"
   ]
  },
  {
   "cell_type": "markdown",
   "metadata": {},
   "source": [
    "# Estimating Causal Effect "
   ]
  },
  {
   "cell_type": "code",
   "execution_count": 5,
   "metadata": {},
   "outputs": [
    {
     "data": {
      "image/png": "[encoded data removed]",
      "text/plain": [
       "<Figure size 576x432 with 1 Axes>"
      ]
     },
     "metadata": {},
     "output_type": "display_data"
    }
   ],
   "source": [
    "import dowhy\n",
    "import pandas as pd\n",
    "from dowhy import CausalModel\n",
    "\n",
    "# creating arbitrary data\n",
    "df = pd.DataFrame({'Smoking':[1],'Yellow_Fingers':[1],'Anxiety':[1],'Peer_Pressure':[1],'Genetics':[1],'Attention_Disorder':[1],\n",
    "                  'Born_an_Even_Day': [1], 'Car_Accident': [1],\n",
    "                  'Fatigue': [1], 'Allergy': [1],\n",
    "                  'Coughing': [1], 'Lung_Cancer': [1]})\n",
    "\n",
    "# a utility function to parse the .gml file to string\n",
    "def gml_to_string(file):\n",
    "    gml_str = ''\n",
    "    with open(file, 'r') as file:\n",
    "        for line in file:\n",
    "            gml_str += line.rstrip()\n",
    "    return gml_str\n",
    "\n",
    "from IPython.display import Image, display\n",
    "\n",
    "gml_graph = gml_to_string('backdoor_criterion_graph.gml')\n",
    "# With GML string\n",
    "model=CausalModel(\n",
    "        data = train, # df\n",
    "        treatment='Coughing',\n",
    "        outcome='Car_Accident',\n",
    "        graph=gml_graph\n",
    "        )\n",
    "model.view_model()\n"
   ]
  },
  {
   "cell_type": "code",
   "execution_count": 6,
   "metadata": {},
   "outputs": [
    {
     "name": "stdout",
     "output_type": "stream",
     "text": [
      "Estimand type: nonparametric-ate\n",
      "\n",
      "### Estimand : 1\n",
      "Estimand name: backdoor\n",
      "Estimand expression:\n",
      "     d                                            \n",
      "───────────(Expectation(Car_Accident|Lung_Cancer))\n",
      "d[Coughing]                                       \n",
      "Estimand assumption 1, Unconfoundedness: If U→{Coughing} and U→Car_Accident then P(Car_Accident|Coughing,Lung_Cancer,U) = P(Car_Accident|Coughing,Lung_Cancer)\n",
      "\n",
      "### Estimand : 2\n",
      "Estimand name: iv\n",
      "Estimand expression:\n",
      "Expectation(Derivative(Car_Accident, [Allergy])*Derivative([Coughing], [Allerg\n",
      "y])**(-1))\n",
      "Estimand assumption 1, As-if-random: If U→→Car_Accident then ¬(U →→{Allergy})\n",
      "Estimand assumption 2, Exclusion: If we remove {Allergy}→{Coughing}, then ¬({Allergy}→Car_Accident)\n",
      "\n",
      "### Estimand : 3\n",
      "Estimand name: frontdoor\n",
      "No such variable(s) found!\n",
      "\n"
     ]
    }
   ],
   "source": [
    "\n",
    "identified_estimand = model.identify_effect()\n",
    "print(identified_estimand)"
   ]
  },
  {
   "cell_type": "code",
   "execution_count": null,
   "metadata": {},
   "outputs": [],
   "source": []
  },
  {
   "cell_type": "markdown",
   "metadata": {},
   "source": [
    "# Logistic Regression"
   ]
  },
  {
   "cell_type": "code",
   "execution_count": 7,
   "metadata": {},
   "outputs": [],
   "source": [
    "# we first use only v0 and y\n",
    "# we need to reshape them into the correct shape for our linear regression function\n",
    "v0_vals = train['Coughing'].values.reshape(len(train['Coughing']), 1) # x\n",
    "y_vals = train['Car_Accident'].values.reshape(len(train['Car_Accident']), 1) # Predcition y"
   ]
  },
  {
   "cell_type": "code",
   "execution_count": 8,
   "metadata": {},
   "outputs": [
    {
     "name": "stdout",
     "output_type": "stream",
     "text": [
      "[[0.93930241]]\n",
      "[0.34006295]\n"
     ]
    }
   ],
   "source": [
    "# we import the LinearRegression object from sklearn\n",
    "from sklearn.linear_model import LogisticRegression\n",
    "\n",
    "# we fit a linear regression model with v0 and y, and check what the estimated linear effect is\n",
    "log_regressor = LogisticRegression() \n",
    "log_regressor.fit(v0_vals, y_vals)\n",
    "print(log_regressor.coef_) # We see that this is not correct, it is too small!\n",
    "print(log_regressor.intercept_)"
   ]
  },
  {
   "cell_type": "code",
   "execution_count": 9,
   "metadata": {},
   "outputs": [],
   "source": [
    "# we first collect the extra variables we wish to include\n",
    "W0_vals = train['Lung_Cancer'].values.reshape(len(train['Lung_Cancer']), 1)\n",
    "\n",
    "# we need to combine all of the variables we're including into one array\n",
    "backdoor = np.concatenate((v0_vals, W0_vals), axis = 1)\n"
   ]
  },
  {
   "cell_type": "code",
   "execution_count": 10,
   "metadata": {},
   "outputs": [
    {
     "name": "stdout",
     "output_type": "stream",
     "text": [
      "[[0.7377658  0.40607405]]\n",
      "[0.19306796]\n"
     ]
    }
   ],
   "source": [
    "# we fit the linear regression with the extra variables included\n",
    "log_regressor.fit(backdoor, y_vals)\n",
    "print(log_regressor.coef_)\n",
    "print(log_regressor.intercept_)"
   ]
  },
  {
   "cell_type": "code",
   "execution_count": 11,
   "metadata": {},
   "outputs": [
    {
     "name": "stdout",
     "output_type": "stream",
     "text": [
      "[[0.7377658  0.40607405]]\n",
      "[0.19306796]\n"
     ]
    }
   ],
   "source": [
    "print(log_regressor.coef_)\n",
    "print(log_regressor.intercept_)"
   ]
  },
  {
   "cell_type": "code",
   "execution_count": null,
   "metadata": {},
   "outputs": [],
   "source": []
  },
  {
   "cell_type": "code",
   "execution_count": 17,
   "metadata": {},
   "outputs": [
    {
     "name": "stdout",
     "output_type": "stream",
     "text": [
      "*** Causal Estimate ***\n",
      "\n",
      "## Identified estimand\n",
      "Estimand type: nonparametric-ate\n",
      "\n",
      "### Estimand : 1\n",
      "Estimand name: backdoor\n",
      "Estimand expression:\n",
      "     d                                            \n",
      "───────────(Expectation(Car_Accident|Lung_Cancer))\n",
      "d[Coughing]                                       \n",
      "Estimand assumption 1, Unconfoundedness: If U→{Coughing} and U→Car_Accident then P(Car_Accident|Coughing,Lung_Cancer,U) = P(Car_Accident|Coughing,Lung_Cancer)\n",
      "\n",
      "## Realized estimand\n",
      "b: Car_Accident~Coughing+Lung_Cancer\n",
      "Target units: ate\n",
      "\n",
      "## Estimate\n",
      "Mean value: 0.15313303308188397\n",
      "p-value: [0, 0.001]\n",
      "95.0% confidence interval: (0.1043593209735495, 0.19842049982056875)\n",
      "\n",
      "Causal Estimate is 0.15313303308188397\n"
     ]
    }
   ],
   "source": [
    "import statsmodels.api as sm\n",
    "\n",
    "causal_estimate = model.estimate_effect(identified_estimand,\n",
    "                                        method_name=\"backdoor.propensity_score_weighting\",\n",
    "                                       confidence_intervals=True,\n",
    "                                       test_significance=True\n",
    "                                       )\n",
    "\n",
    "print(causal_estimate)\n",
    "print(\"Causal Estimate is \" + str(causal_estimate.value))"
   ]
  },
  {
   "cell_type": "code",
   "execution_count": 12,
   "metadata": {},
   "outputs": [],
   "source": [
    "import statsmodels.api as sm\n",
    "\n",
    "causal_estimate = model.estimate_effect(identified_estimand,\n",
    "                                        method_name=\"backdoor.propensity_score_matching\",\n",
    "                                       confidence_intervals=True,\n",
    "                                       test_significance=True\n",
    "                                       )"
   ]
  },
  {
   "cell_type": "code",
   "execution_count": 13,
   "metadata": {},
   "outputs": [
    {
     "name": "stdout",
     "output_type": "stream",
     "text": [
      "*** Causal Estimate ***\n",
      "\n",
      "## Identified estimand\n",
      "Estimand type: nonparametric-ate\n",
      "\n",
      "### Estimand : 1\n",
      "Estimand name: backdoor\n",
      "Estimand expression:\n",
      "     d                                            \n",
      "───────────(Expectation(Car_Accident|Lung_Cancer))\n",
      "d[Coughing]                                       \n",
      "Estimand assumption 1, Unconfoundedness: If U→{Coughing} and U→Car_Accident then P(Car_Accident|Coughing,Lung_Cancer,U) = P(Car_Accident|Coughing,Lung_Cancer)\n",
      "\n",
      "## Realized estimand\n",
      "b: Car_Accident~Coughing+Lung_Cancer\n",
      "Target units: ate\n",
      "\n",
      "## Estimate\n",
      "Mean value: -0.3265\n",
      "p-value: 0.047\n",
      "95.0% confidence interval: (-1.322, -0.4305)\n",
      "\n",
      "Causal Estimate is -0.3265\n"
     ]
    }
   ],
   "source": [
    "print(causal_estimate)\n",
    "print(\"Causal Estimate is \" + str(causal_estimate.value))"
   ]
  },
  {
   "cell_type": "code",
   "execution_count": 14,
   "metadata": {},
   "outputs": [],
   "source": [
    "import statsmodels.api as sm\n",
    "\n",
    "causal_estimate = model.estimate_effect(identified_estimand,\n",
    "                                        method_name=\"backdoor.generalized_linear_model\",\n",
    "                                       confidence_intervals=True,\n",
    "                                       test_significance=True,\n",
    "                                        method_params = {\n",
    "                                            'num_null_simulations':10,\n",
    "                                            'num_simulations':10,\n",
    "                                            'num_quantiles_to_discretize_cont_cols':10,\n",
    "                                            'fit_method': \"statsmodels\",\n",
    "                                            'glm_family': sm.families.Binomial(), # logistic regression\n",
    "                                            'need_conditional_estimates':False\n",
    "                                        },\n",
    "                                       )"
   ]
  },
  {
   "cell_type": "code",
   "execution_count": 15,
   "metadata": {},
   "outputs": [
    {
     "name": "stdout",
     "output_type": "stream",
     "text": [
      "*** Causal Estimate ***\n",
      "\n",
      "## Identified estimand\n",
      "Estimand type: nonparametric-ate\n",
      "\n",
      "### Estimand : 1\n",
      "Estimand name: backdoor\n",
      "Estimand expression:\n",
      "     d                                            \n",
      "───────────(Expectation(Car_Accident|Lung_Cancer))\n",
      "d[Coughing]                                       \n",
      "Estimand assumption 1, Unconfoundedness: If U→{Coughing} and U→Car_Accident then P(Car_Accident|Coughing,Lung_Cancer,U) = P(Car_Accident|Coughing,Lung_Cancer)\n",
      "\n",
      "## Realized estimand\n",
      "b: Car_Accident~Sigmoid(Coughing+Lung_Cancer+Coughing*Attention_Disorder)\n",
      "Target units: ate\n",
      "\n",
      "## Estimate\n",
      "Mean value: 0.15785190742002475\n",
      "p-value: [0, 0.1]\n",
      "95.0% confidence interval: (0.11136654723199257, 0.18212782691273754)\n",
      "\n",
      "Causal Estimate is 0.15785190742002475\n"
     ]
    }
   ],
   "source": [
    "print(causal_estimate)\n",
    "print(\"Causal Estimate is \" + str(causal_estimate.value))"
   ]
  },
  {
   "cell_type": "code",
   "execution_count": 11,
   "metadata": {},
   "outputs": [
    {
     "name": "stdout",
     "output_type": "stream",
     "text": [
      "Refute: Add a random common cause\n",
      "Estimated effect:0.15785190742002486\n",
      "New effect:0.15775969574093124\n",
      "p value:0.45999999999999996\n",
      "\n"
     ]
    }
   ],
   "source": [
    "res_random=model.refute_estimate(identified_estimand, causal_estimate, method_name=\"random_common_cause\")\n",
    "print(res_random) \n",
    "# Does the estimation method change its estimate after we add an independent random variable as a common cause to the dataset? (Hint: It should not)"
   ]
  },
  {
   "cell_type": "code",
   "execution_count": 12,
   "metadata": {},
   "outputs": [
    {
     "name": "stdout",
     "output_type": "stream",
     "text": [
      "Refute: Add an Unobserved Common Cause\n",
      "Estimated effect:0.15785190742002486\n",
      "New effect:0.1024082738975054\n",
      "\n"
     ]
    }
   ],
   "source": [
    "res_random=model.refute_estimate(identified_estimand, causal_estimate, method_name=\"add_unobserved_common_cause\")\n",
    "print(res_random)\n",
    "#  How sensitive is the effect estimate when we add an additional common cause (confounder) to the dataset that is correlated with the treatment and the outcome? \n",
    "# # (Hint: It should not be too sensitive)"
   ]
  },
  {
   "cell_type": "code",
   "execution_count": 13,
   "metadata": {},
   "outputs": [
    {
     "name": "stdout",
     "output_type": "stream",
     "text": [
      "Refute: Use a subset of data\n",
      "Estimated effect:0.15785190742002486\n",
      "New effect:0.15991829307506586\n",
      "p value:0.47\n",
      "\n"
     ]
    }
   ],
   "source": [
    "res_random=model.refute_estimate(identified_estimand, causal_estimate, method_name=\"data_subset_refuter\")\n",
    "print(res_random)\n",
    "\n",
    "# Does the estimated effect change significantly when we replace the given dataset with a randomly selected subset? (Hint: It should not)"
   ]
  },
  {
   "cell_type": "code",
   "execution_count": null,
   "metadata": {},
   "outputs": [],
   "source": []
  },
  {
   "cell_type": "code",
   "execution_count": 15,
   "metadata": {},
   "outputs": [
    {
     "name": "stdout",
     "output_type": "stream",
     "text": [
      "                 Generalized Linear Model Regression Results                  \n",
      "==============================================================================\n",
      "Dep. Variable:           Car_Accident   No. Observations:                 2000\n",
      "Model:                            GLM   Df Residuals:                     1996\n",
      "Model Family:                Binomial   Df Model:                            3\n",
      "Link Function:                  Logit   Scale:                          1.0000\n",
      "Method:                          IRLS   Log-Likelihood:                -1065.9\n",
      "Date:                Fri, 18 Mar 2022   Deviance:                       2131.7\n",
      "Time:                        09:28:59   Pearson chi2:                 2.00e+03\n",
      "No. Iterations:                     6   Pseudo R-squ. (CS):             0.1080\n",
      "Covariance Type:            nonrobust                                         \n",
      "==============================================================================\n",
      "                 coef    std err          z      P>|z|      [0.025      0.975]\n",
      "------------------------------------------------------------------------------\n",
      "const          0.2090      0.094      2.212      0.027       0.024       0.394\n",
      "x1             0.3337      0.126      2.646      0.008       0.087       0.581\n",
      "x2             0.3462      0.127      2.717      0.007       0.096       0.596\n",
      "x3             2.0815      0.222      9.396      0.000       1.647       2.516\n",
      "==============================================================================\n",
      "Increasing the treatment variable(s) [Coughing] from 0 to 1 causes an increase of 0.15785190742002486 in the expected value of the outcome [Car_Accident], over the data distribution/population represented by the dataset.\n"
     ]
    }
   ],
   "source": [
    "print(causal_estimate.estimator.model.summary())\n",
    "causal_estimate.interpret()"
   ]
  },
  {
   "cell_type": "code",
   "execution_count": 16,
   "metadata": {},
   "outputs": [
    {
     "name": "stderr",
     "output_type": "stream",
     "text": [
      "/opt/anaconda3/envs/CDS/lib/python3.9/site-packages/sklearn/base.py:443: UserWarning: X has feature names, but LogisticRegression was fitted without feature names\n",
      "  warnings.warn(\n",
      "/opt/anaconda3/envs/CDS/lib/python3.9/site-packages/sklearn/base.py:443: UserWarning: X has feature names, but LogisticRegression was fitted without feature names\n",
      "  warnings.warn(\n"
     ]
    },
    {
     "data": {
      "image/png": "[encoded data removed]",
      "text/latex": [
       "$\\displaystyle 0.723$"
      ],
      "text/plain": [
       "0.723"
      ]
     },
     "execution_count": 16,
     "metadata": {},
     "output_type": "execute_result"
    }
   ],
   "source": [
    "\n",
    "log_regressor.predict(train[['Coughing', 'Lung_Cancer']])\n",
    "\n",
    "log_regressor.score(train[['Coughing', 'Lung_Cancer']], train['Car_Accident'])"
   ]
  },
  {
   "cell_type": "markdown",
   "metadata": {},
   "source": [
    "### Making Predictions With Test Set\n"
   ]
  },
  {
   "cell_type": "code",
   "execution_count": 16,
   "metadata": {},
   "outputs": [
    {
     "data": {
      "text/plain": [
       "array([[0, 0],\n",
       "       [1, 1],\n",
       "       [1, 1],\n",
       "       ...,\n",
       "       [0, 1],\n",
       "       [1, 1],\n",
       "       [1, 1]])"
      ]
     },
     "execution_count": 16,
     "metadata": {},
     "output_type": "execute_result"
    }
   ],
   "source": [
    "# we first collect the extra variables we wish to include\n",
    "W0_vals = train['Lung_Cancer'].values.reshape(len(train['Lung_Cancer']), 1)\n",
    "\n",
    "# we need to combine all of the variables we're including into one array\n",
    "backdoor = np.concatenate((v0_vals, W0_vals), axis = 1)\n",
    "backdoor"
   ]
  },
  {
   "cell_type": "code",
   "execution_count": 20,
   "metadata": {},
   "outputs": [],
   "source": [
    "from sklearn.model_selection import train_test_split\n",
    "from sklearn.model_selection import train_test_split\n",
    "from sklearn.linear_model import LogisticRegression\n",
    "from sklearn.compose import make_column_transformer\n",
    "from sklearn.preprocessing import StandardScaler, MinMaxScaler, OrdinalEncoder\n",
    "import matplotlib.pyplot as plt\n",
    "import seaborn as sns\n",
    "from sklearn import metrics\n",
    "\n",
    "x_train,x_test,y_train,y_test = train_test_split(backdoor,y_vals,test_size=0.2, random_state=0)"
   ]
  },
  {
   "cell_type": "code",
   "execution_count": 21,
   "metadata": {},
   "outputs": [
    {
     "name": "stderr",
     "output_type": "stream",
     "text": [
      "/opt/anaconda3/envs/CDS/lib/python3.9/site-packages/sklearn/utils/validation.py:993: DataConversionWarning: A column-vector y was passed when a 1d array was expected. Please change the shape of y to (n_samples, ), for example using ravel().\n",
      "  y = column_or_1d(y, warn=True)\n"
     ]
    },
    {
     "data": {
      "text/plain": [
       "array([[0.77547529, 0.37288989]])"
      ]
     },
     "execution_count": 21,
     "metadata": {},
     "output_type": "execute_result"
    }
   ],
   "source": [
    "# we fit the linear regression with the extra variables included\n",
    "log_regressor1 = LogisticRegression(max_iter = 1000) \n",
    "\n",
    "# ct = make_column_transformer(\n",
    "#     (MinMaxScaler(), ), \n",
    "#     (StandardScaler(), ),\n",
    "#     remainder='passthrough'\n",
    "# )\n",
    "\n",
    "# x_train = ct.fit_transform(x_train)\n",
    "# x_test = ct.transform(x_test)\n",
    "\n",
    "\n",
    "log_regressor1.fit(x_train, y_train)\n",
    "log_regressor1.coef_"
   ]
  },
  {
   "cell_type": "code",
   "execution_count": 22,
   "metadata": {},
   "outputs": [],
   "source": [
    "pred = log_regressor1.predict(x_test)\n"
   ]
  },
  {
   "cell_type": "code",
   "execution_count": 23,
   "metadata": {},
   "outputs": [
    {
     "name": "stdout",
     "output_type": "stream",
     "text": [
      "0.7475\n"
     ]
    }
   ],
   "source": [
    "score = log_regressor1.score(x_test, y_test)\n",
    "print(score)"
   ]
  },
  {
   "cell_type": "code",
   "execution_count": 24,
   "metadata": {},
   "outputs": [
    {
     "name": "stdout",
     "output_type": "stream",
     "text": [
      "[[  0 101]\n",
      " [  0 299]]\n"
     ]
    }
   ],
   "source": [
    "cm = metrics.confusion_matrix(y_test, pred)\n",
    "print(cm)"
   ]
  },
  {
   "cell_type": "code",
   "execution_count": 25,
   "metadata": {},
   "outputs": [
    {
     "data": {
      "text/plain": [
       "1    400\n",
       "dtype: int64"
      ]
     },
     "execution_count": 25,
     "metadata": {},
     "output_type": "execute_result"
    }
   ],
   "source": [
    "pd.DataFrame(pred).value_counts()"
   ]
  },
  {
   "cell_type": "code",
   "execution_count": null,
   "metadata": {},
   "outputs": [],
   "source": [
    "\n"
   ]
  },
  {
   "cell_type": "code",
   "execution_count": 26,
   "metadata": {},
   "outputs": [
    {
     "data": {
      "text/html": [
       "<div>\n",
       "<style scoped>\n",
       "    .dataframe tbody tr th:only-of-type {\n",
       "        vertical-align: middle;\n",
       "    }\n",
       "\n",
       "    .dataframe tbody tr th {\n",
       "        vertical-align: top;\n",
       "    }\n",
       "\n",
       "    .dataframe thead th {\n",
       "        text-align: right;\n",
       "    }\n",
       "</style>\n",
       "<table border=\"1\" class=\"dataframe\">\n",
       "  <thead>\n",
       "    <tr style=\"text-align: right;\">\n",
       "      <th></th>\n",
       "      <th>Smoking</th>\n",
       "      <th>Yellow_Fingers</th>\n",
       "      <th>Anxiety</th>\n",
       "      <th>Peer_Pressure</th>\n",
       "      <th>Genetics</th>\n",
       "      <th>Attention_Disorder</th>\n",
       "      <th>Born_an_Even_Day</th>\n",
       "      <th>Car_Accident</th>\n",
       "      <th>Fatigue</th>\n",
       "      <th>Allergy</th>\n",
       "      <th>Coughing</th>\n",
       "      <th>Lung_Cancer</th>\n",
       "    </tr>\n",
       "  </thead>\n",
       "  <tbody>\n",
       "    <tr>\n",
       "      <th>0</th>\n",
       "      <td>0</td>\n",
       "      <td>0</td>\n",
       "      <td>1</td>\n",
       "      <td>0</td>\n",
       "      <td>0</td>\n",
       "      <td>1</td>\n",
       "      <td>0</td>\n",
       "      <td>1</td>\n",
       "      <td>0</td>\n",
       "      <td>1</td>\n",
       "      <td>0</td>\n",
       "      <td>0</td>\n",
       "    </tr>\n",
       "    <tr>\n",
       "      <th>1</th>\n",
       "      <td>0</td>\n",
       "      <td>1</td>\n",
       "      <td>0</td>\n",
       "      <td>0</td>\n",
       "      <td>0</td>\n",
       "      <td>0</td>\n",
       "      <td>1</td>\n",
       "      <td>0</td>\n",
       "      <td>1</td>\n",
       "      <td>0</td>\n",
       "      <td>1</td>\n",
       "      <td>1</td>\n",
       "    </tr>\n",
       "    <tr>\n",
       "      <th>2</th>\n",
       "      <td>1</td>\n",
       "      <td>1</td>\n",
       "      <td>1</td>\n",
       "      <td>0</td>\n",
       "      <td>1</td>\n",
       "      <td>1</td>\n",
       "      <td>1</td>\n",
       "      <td>1</td>\n",
       "      <td>1</td>\n",
       "      <td>1</td>\n",
       "      <td>1</td>\n",
       "      <td>1</td>\n",
       "    </tr>\n",
       "    <tr>\n",
       "      <th>3</th>\n",
       "      <td>0</td>\n",
       "      <td>0</td>\n",
       "      <td>0</td>\n",
       "      <td>1</td>\n",
       "      <td>0</td>\n",
       "      <td>0</td>\n",
       "      <td>1</td>\n",
       "      <td>0</td>\n",
       "      <td>0</td>\n",
       "      <td>0</td>\n",
       "      <td>0</td>\n",
       "      <td>0</td>\n",
       "    </tr>\n",
       "    <tr>\n",
       "      <th>4</th>\n",
       "      <td>1</td>\n",
       "      <td>1</td>\n",
       "      <td>1</td>\n",
       "      <td>0</td>\n",
       "      <td>0</td>\n",
       "      <td>1</td>\n",
       "      <td>1</td>\n",
       "      <td>1</td>\n",
       "      <td>1</td>\n",
       "      <td>0</td>\n",
       "      <td>0</td>\n",
       "      <td>1</td>\n",
       "    </tr>\n",
       "    <tr>\n",
       "      <th>...</th>\n",
       "      <td>...</td>\n",
       "      <td>...</td>\n",
       "      <td>...</td>\n",
       "      <td>...</td>\n",
       "      <td>...</td>\n",
       "      <td>...</td>\n",
       "      <td>...</td>\n",
       "      <td>...</td>\n",
       "      <td>...</td>\n",
       "      <td>...</td>\n",
       "      <td>...</td>\n",
       "      <td>...</td>\n",
       "    </tr>\n",
       "    <tr>\n",
       "      <th>1995</th>\n",
       "      <td>0</td>\n",
       "      <td>0</td>\n",
       "      <td>1</td>\n",
       "      <td>0</td>\n",
       "      <td>0</td>\n",
       "      <td>0</td>\n",
       "      <td>0</td>\n",
       "      <td>1</td>\n",
       "      <td>1</td>\n",
       "      <td>0</td>\n",
       "      <td>1</td>\n",
       "      <td>1</td>\n",
       "    </tr>\n",
       "    <tr>\n",
       "      <th>1996</th>\n",
       "      <td>1</td>\n",
       "      <td>1</td>\n",
       "      <td>1</td>\n",
       "      <td>0</td>\n",
       "      <td>0</td>\n",
       "      <td>0</td>\n",
       "      <td>0</td>\n",
       "      <td>0</td>\n",
       "      <td>1</td>\n",
       "      <td>0</td>\n",
       "      <td>1</td>\n",
       "      <td>1</td>\n",
       "    </tr>\n",
       "    <tr>\n",
       "      <th>1997</th>\n",
       "      <td>1</td>\n",
       "      <td>1</td>\n",
       "      <td>0</td>\n",
       "      <td>1</td>\n",
       "      <td>0</td>\n",
       "      <td>0</td>\n",
       "      <td>1</td>\n",
       "      <td>0</td>\n",
       "      <td>1</td>\n",
       "      <td>0</td>\n",
       "      <td>0</td>\n",
       "      <td>1</td>\n",
       "    </tr>\n",
       "    <tr>\n",
       "      <th>1998</th>\n",
       "      <td>1</td>\n",
       "      <td>1</td>\n",
       "      <td>1</td>\n",
       "      <td>0</td>\n",
       "      <td>1</td>\n",
       "      <td>1</td>\n",
       "      <td>0</td>\n",
       "      <td>1</td>\n",
       "      <td>1</td>\n",
       "      <td>0</td>\n",
       "      <td>1</td>\n",
       "      <td>1</td>\n",
       "    </tr>\n",
       "    <tr>\n",
       "      <th>1999</th>\n",
       "      <td>1</td>\n",
       "      <td>1</td>\n",
       "      <td>0</td>\n",
       "      <td>1</td>\n",
       "      <td>0</td>\n",
       "      <td>0</td>\n",
       "      <td>0</td>\n",
       "      <td>0</td>\n",
       "      <td>1</td>\n",
       "      <td>1</td>\n",
       "      <td>1</td>\n",
       "      <td>1</td>\n",
       "    </tr>\n",
       "  </tbody>\n",
       "</table>\n",
       "<p>2000 rows × 12 columns</p>\n",
       "</div>"
      ],
      "text/plain": [
       "      Smoking  Yellow_Fingers  Anxiety  Peer_Pressure  Genetics  \\\n",
       "0           0               0        1              0         0   \n",
       "1           0               1        0              0         0   \n",
       "2           1               1        1              0         1   \n",
       "3           0               0        0              1         0   \n",
       "4           1               1        1              0         0   \n",
       "...       ...             ...      ...            ...       ...   \n",
       "1995        0               0        1              0         0   \n",
       "1996        1               1        1              0         0   \n",
       "1997        1               1        0              1         0   \n",
       "1998        1               1        1              0         1   \n",
       "1999        1               1        0              1         0   \n",
       "\n",
       "      Attention_Disorder  Born_an_Even_Day  Car_Accident  Fatigue  Allergy  \\\n",
       "0                      1                 0             1        0        1   \n",
       "1                      0                 1             0        1        0   \n",
       "2                      1                 1             1        1        1   \n",
       "3                      0                 1             0        0        0   \n",
       "4                      1                 1             1        1        0   \n",
       "...                  ...               ...           ...      ...      ...   \n",
       "1995                   0                 0             1        1        0   \n",
       "1996                   0                 0             0        1        0   \n",
       "1997                   0                 1             0        1        0   \n",
       "1998                   1                 0             1        1        0   \n",
       "1999                   0                 0             0        1        1   \n",
       "\n",
       "      Coughing  Lung_Cancer  \n",
       "0            0            0  \n",
       "1            1            1  \n",
       "2            1            1  \n",
       "3            0            0  \n",
       "4            0            1  \n",
       "...        ...          ...  \n",
       "1995         1            1  \n",
       "1996         1            1  \n",
       "1997         0            1  \n",
       "1998         1            1  \n",
       "1999         1            1  \n",
       "\n",
       "[2000 rows x 12 columns]"
      ]
     },
     "execution_count": 26,
     "metadata": {},
     "output_type": "execute_result"
    }
   ],
   "source": [
    "train"
   ]
  },
  {
   "cell_type": "code",
   "execution_count": 27,
   "metadata": {},
   "outputs": [
    {
     "name": "stdout",
     "output_type": "stream",
     "text": [
      "0.8025\n",
      "[[ 63  38]\n",
      " [ 41 258]]\n"
     ]
    }
   ],
   "source": [
    "num_columns = ['Coughing', 'Lung_Cancer', 'Fatigue']\n",
    "\n",
    "x = train[num_columns]\n",
    "y = train['Car_Accident']\n",
    "x_train, x_test, y_train, y_test = train_test_split(x, y, test_size=0.2, random_state=0)\n",
    "\n",
    "lr = LogisticRegression(max_iter = 1000)\n",
    "\n",
    "ct = make_column_transformer(\n",
    "    (MinMaxScaler(), num_columns),\n",
    "    (StandardScaler(), num_columns),\n",
    "    remainder='passthrough'\n",
    ")\n",
    "\n",
    "x_train = ct.fit_transform(x_train)\n",
    "x_test = ct.transform(x_test)\n",
    "\n",
    "lr.fit(x_train, y_train)\n",
    "\n",
    "predictions = lr.predict(x_test)\n",
    "score = lr.score(x_test, y_test)\n",
    "print(score)\n",
    "\n",
    "cm = metrics.confusion_matrix(y_test, predictions)\n",
    "print(cm)"
   ]
  },
  {
   "cell_type": "code",
   "execution_count": null,
   "metadata": {},
   "outputs": [],
   "source": []
  },
  {
   "cell_type": "markdown",
   "metadata": {},
   "source": [
    "# Prediction of the whole Thing"
   ]
  },
  {
   "cell_type": "code",
   "execution_count": 28,
   "metadata": {},
   "outputs": [
    {
     "name": "stdout",
     "output_type": "stream",
     "text": [
      "0.8475\n",
      "[[ 81  36]\n",
      " [ 25 258]]\n"
     ]
    }
   ],
   "source": [
    "num_columns = ['Smoking', 'Yellow_Fingers', 'Anxiety', 'Peer_Pressure', 'Genetics', 'Attention_Disorder','Born_an_Even_Day', 'Car_Accident', 'Fatigue', 'Allergy', 'Coughing']\n",
    "\n",
    "x = train[num_columns]\n",
    "y = train['Lung_Cancer']\n",
    "x_train, x_test, y_train, y_test = train_test_split(x, y, test_size=0.2, random_state=0)\n",
    "\n",
    "lr = LogisticRegression(max_iter = 1000)\n",
    "\n",
    "ct = make_column_transformer(\n",
    "    (MinMaxScaler(), num_columns),\n",
    "    (StandardScaler(), num_columns),\n",
    "    remainder='passthrough'\n",
    ")\n",
    "\n",
    "x_train = ct.fit_transform(x_train)\n",
    "x_test = ct.transform(x_test)\n",
    "\n",
    "lr.fit(x_train, y_train)\n",
    "\n",
    "predictions = lr.predict(x_test)\n",
    "score = lr.score(x_test, y_test)\n",
    "print(score)\n",
    "\n",
    "cm = metrics.confusion_matrix(y_test, predictions)\n",
    "print(cm)"
   ]
  },
  {
   "cell_type": "code",
   "execution_count": 29,
   "metadata": {},
   "outputs": [
    {
     "data": {
      "text/plain": [
       "1    294\n",
       "0    106\n",
       "dtype: int64"
      ]
     },
     "execution_count": 29,
     "metadata": {},
     "output_type": "execute_result"
    }
   ],
   "source": [
    "pd.DataFrame(predictions).value_counts()"
   ]
  },
  {
   "cell_type": "code",
   "execution_count": 30,
   "metadata": {},
   "outputs": [
    {
     "data": {
      "image/png": "[encoded data removed]",
      "text/latex": [
       "$\\displaystyle 0.735$"
      ],
      "text/plain": [
       "0.735"
      ]
     },
     "execution_count": 30,
     "metadata": {},
     "output_type": "execute_result"
    }
   ],
   "source": [
    "294 / (294+106)"
   ]
  },
  {
   "cell_type": "code",
   "execution_count": 69,
   "metadata": {},
   "outputs": [
    {
     "data": {
      "text/plain": [
       "LogisticRegression(max_iter=1000)"
      ]
     },
     "execution_count": 69,
     "metadata": {},
     "output_type": "execute_result"
    }
   ],
   "source": [
    "num_columns = ['Smoking', 'Yellow_Fingers', 'Anxiety', 'Peer_Pressure', 'Genetics', 'Attention_Disorder','Born_an_Even_Day', 'Car_Accident', 'Fatigue', 'Allergy', 'Coughing']\n",
    "\n",
    "x = train[num_columns]\n",
    "y = train['Lung_Cancer']\n",
    "\n",
    "lr = LogisticRegression(max_iter = 1000)\n",
    "\n",
    "\n",
    "lr.fit(x, y)\n"
   ]
  },
  {
   "cell_type": "code",
   "execution_count": 70,
   "metadata": {},
   "outputs": [],
   "source": [
    "\n",
    "predictions = lr.predict(test)\n"
   ]
  },
  {
   "cell_type": "code",
   "execution_count": 72,
   "metadata": {},
   "outputs": [
    {
     "data": {
      "text/plain": [
       "1    7597\n",
       "0    2403\n",
       "dtype: int64"
      ]
     },
     "execution_count": 72,
     "metadata": {},
     "output_type": "execute_result"
    }
   ],
   "source": [
    "pd.DataFrame(predictions).value_counts()"
   ]
  },
  {
   "cell_type": "code",
   "execution_count": 73,
   "metadata": {},
   "outputs": [
    {
     "data": {
      "image/png": "[encoded data removed]",
      "text/latex": [
       "$\\displaystyle 0.7597$"
      ],
      "text/plain": [
       "0.7597"
      ]
     },
     "execution_count": 73,
     "metadata": {},
     "output_type": "execute_result"
    }
   ],
   "source": [
    "7597 / (7597 + 2403)"
   ]
  },
  {
   "cell_type": "code",
   "execution_count": null,
   "metadata": {},
   "outputs": [],
   "source": [
    "score = lr.score(x_test, y_test)\n",
    "print(score)\n",
    "\n",
    "cm = metrics.confusion_matrix(y_test, predictions)\n",
    "print(cm)"
   ]
  },
  {
   "cell_type": "code",
   "execution_count": null,
   "metadata": {},
   "outputs": [],
   "source": []
  },
  {
   "cell_type": "code",
   "execution_count": 37,
   "metadata": {},
   "outputs": [],
   "source": [
    "%matplotlib inline\n",
    "import numpy as np\n",
    "import pylab as pl\n",
    "from numpy.random import uniform\n",
    "from numpy import exp\n",
    "from scipy.special import expit as sigmoid, logit\n",
    "# from arsenal.timer import timers    # https://github.com/timvieira/arsenal\n",
    "    "
   ]
  },
  {
   "cell_type": "code",
   "execution_count": 54,
   "metadata": {},
   "outputs": [
    {
     "data": {
      "text/plain": [
       "[<matplotlib.lines.Line2D at 0x7fe6261aa3a0>]"
      ]
     },
     "execution_count": 54,
     "metadata": {},
     "output_type": "execute_result"
    },
    {
     "data": {
      "image/png": "[encoded data removed]",
      "text/plain": [
       "<Figure size 432x288 with 1 Axes>"
      ]
     },
     "metadata": {
      "needs_background": "light"
     },
     "output_type": "display_data"
    }
   ],
   "source": [
    "from scipy.stats import logistic\n",
    "u = uniform(0,1,size=10000)\n",
    "z = logit(u)\n",
    "pl.hist(z, bins=100)\n",
    "xs = np.linspace(-6,6,100)\n",
    "ys = logistic.pdf(xs, np.mean(train['Lung_Cancer']), np.std(train['Lung_Cancer']))\n",
    "pl.plot(xs, ys, c='r', lw=2)"
   ]
  },
  {
   "cell_type": "code",
   "execution_count": 39,
   "metadata": {},
   "outputs": [
    {
     "data": {
      "text/plain": [
       "array([0.35881169, 0.07696507, 0.31782175, ..., 0.30788697, 0.10076139,\n",
       "       0.37965005])"
      ]
     },
     "execution_count": 39,
     "metadata": {},
     "output_type": "execute_result"
    }
   ],
   "source": [
    "u"
   ]
  },
  {
   "cell_type": "code",
   "execution_count": 40,
   "metadata": {},
   "outputs": [
    {
     "data": {
      "text/plain": [
       "array([ 0.23154112, -0.20020741,  0.0425098 , -0.11651847,  0.15060654,\n",
       "        0.05106999,  0.31145996,  0.10166205, -0.3110498 , -0.16254382])"
      ]
     },
     "execution_count": 40,
     "metadata": {},
     "output_type": "execute_result"
    }
   ],
   "source": [
    "np.random.logistic(loc = 0, scale= 0.1, size= 10)"
   ]
  },
  {
   "cell_type": "code",
   "execution_count": 45,
   "metadata": {},
   "outputs": [
    {
     "data": {
      "image/png": "[encoded data removed]",
      "text/plain": [
       "<Figure size 432x288 with 1 Axes>"
      ]
     },
     "metadata": {
      "needs_background": "light"
     },
     "output_type": "display_data"
    }
   ],
   "source": [
    "import matplotlib.pyplot as plt\n",
    "loc, scale = 0, 1\n",
    "s = np.random.logistic(loc, scale, 10000)\n",
    "count, bins, ignored = plt.hist(s, bins=50)"
   ]
  },
  {
   "cell_type": "code",
   "execution_count": 23,
   "metadata": {},
   "outputs": [
    {
     "data": {
      "image/png": "[encoded data removed]",
      "text/plain": [
       "<Figure size 432x288 with 1 Axes>"
      ]
     },
     "metadata": {
      "needs_background": "light"
     },
     "output_type": "display_data"
    }
   ],
   "source": [
    "def logist(x, loc, scale):\n",
    "     return exp((loc-x)/scale)/(scale*(1+exp((loc-x)/scale))**2)\n",
    "plt.plot(bins, logist(bins, loc, scale)*count.max()/\\\n",
    "logist(bins, loc, scale).max())\n",
    "plt.show()"
   ]
  },
  {
   "cell_type": "code",
   "execution_count": null,
   "metadata": {},
   "outputs": [],
   "source": []
  },
  {
   "cell_type": "code",
   "execution_count": null,
   "metadata": {},
   "outputs": [],
   "source": []
  },
  {
   "cell_type": "code",
   "execution_count": 50,
   "metadata": {},
   "outputs": [
    {
     "name": "stdout",
     "output_type": "stream",
     "text": [
      "0.2689414213699951\n",
      "0.320821300824607\n",
      "0.3775406687981454\n",
      "0.43782349911420193\n",
      "0.5\n",
      "0.5621765008857981\n",
      "0.6224593312018546\n",
      "0.679178699175393\n"
     ]
    }
   ],
   "source": [
    "x = np.arange(-1, 1,0.25)\n",
    "\n",
    "for i in x:\n",
    "    print(logistic.cdf(i, 0 , 1))\n"
   ]
  },
  {
   "cell_type": "code",
   "execution_count": null,
   "metadata": {},
   "outputs": [],
   "source": []
  },
  {
   "cell_type": "code",
   "execution_count": null,
   "metadata": {},
   "outputs": [],
   "source": []
  },
  {
   "cell_type": "code",
   "execution_count": null,
   "metadata": {},
   "outputs": [],
   "source": []
  }
 ],
 "metadata": {
  "interpreter": {
   "hash": "40d3a090f54c6569ab1632332b64b2c03c39dcf918b08424e98f38b5ae0af88f"
  },
  "kernelspec": {
   "display_name": "Python 3.7.10 ('base')",
   "language": "python",
   "name": "python3"
  },
  "language_info": {
   "codemirror_mode": {
    "name": "ipython",
    "version": 3
   },
   "file_extension": ".py",
   "mimetype": "text/x-python",
   "name": "python",
   "nbconvert_exporter": "python",
   "pygments_lexer": "ipython3",
   "version": "3.9.7"
  },
  "orig_nbformat": 4
 },
 "nbformat": 4,
 "nbformat_minor": 2
}
